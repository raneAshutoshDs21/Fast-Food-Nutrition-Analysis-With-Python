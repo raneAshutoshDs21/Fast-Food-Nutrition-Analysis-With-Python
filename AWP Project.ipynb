{
 "cells": [
  {
   "cell_type": "code",
   "execution_count": 1,
   "id": "2d52881a-b346-46b0-a704-69c1c3b88762",
   "metadata": {},
   "outputs": [],
   "source": [
    "import numpy as np\n",
    "import pandas as pd\n",
    "import matplotlib.pyplot as plt\n",
    "import seaborn as sns\n",
    "import warnings\n",
    "warnings.filterwarnings('ignore')"
   ]
  },
  {
   "cell_type": "code",
   "execution_count": 2,
   "id": "398d913d-abb6-4ff9-82c9-1c40bdfb67c8",
   "metadata": {},
   "outputs": [],
   "source": [
    "df1=pd.read_csv('FastFoodNutritionMenuV2.csv')\n",
    "df2=pd.read_csv('FastFoodNutritionMenuV3.csv')"
   ]
  },
  {
   "cell_type": "code",
   "execution_count": 3,
   "id": "fb3a0193-88cf-4567-9402-b4eec66dc624",
   "metadata": {},
   "outputs": [
    {
     "data": {
      "text/html": [
       "<div>\n",
       "<style scoped>\n",
       "    .dataframe tbody tr th:only-of-type {\n",
       "        vertical-align: middle;\n",
       "    }\n",
       "\n",
       "    .dataframe tbody tr th {\n",
       "        vertical-align: top;\n",
       "    }\n",
       "\n",
       "    .dataframe thead th {\n",
       "        text-align: right;\n",
       "    }\n",
       "</style>\n",
       "<table border=\"1\" class=\"dataframe\">\n",
       "  <thead>\n",
       "    <tr style=\"text-align: right;\">\n",
       "      <th></th>\n",
       "      <th>Company</th>\n",
       "      <th>Item</th>\n",
       "      <th>Calories</th>\n",
       "      <th>Calories from\\nFat</th>\n",
       "      <th>Total Fat\\n(g)</th>\n",
       "      <th>Saturated Fat\\n(g)</th>\n",
       "      <th>Trans Fat\\n(g)</th>\n",
       "      <th>Cholesterol\\n(mg)</th>\n",
       "      <th>Sodium \\n(mg)</th>\n",
       "      <th>Carbs\\n(g)</th>\n",
       "      <th>Fiber\\n(g)</th>\n",
       "      <th>Sugars\\n(g)</th>\n",
       "      <th>Protein\\n(g)</th>\n",
       "      <th>Weight Watchers\\nPnts</th>\n",
       "    </tr>\n",
       "  </thead>\n",
       "  <tbody>\n",
       "    <tr>\n",
       "      <th>0</th>\n",
       "      <td>McDonald’s</td>\n",
       "      <td>Hamburger</td>\n",
       "      <td>250</td>\n",
       "      <td>80</td>\n",
       "      <td>9</td>\n",
       "      <td>3.5</td>\n",
       "      <td>0.5</td>\n",
       "      <td>25</td>\n",
       "      <td>520</td>\n",
       "      <td>31</td>\n",
       "      <td>2</td>\n",
       "      <td>6</td>\n",
       "      <td>12</td>\n",
       "      <td>247.5</td>\n",
       "    </tr>\n",
       "    <tr>\n",
       "      <th>1</th>\n",
       "      <td>McDonald’s</td>\n",
       "      <td>Cheeseburger</td>\n",
       "      <td>300</td>\n",
       "      <td>110</td>\n",
       "      <td>12</td>\n",
       "      <td>6</td>\n",
       "      <td>0.5</td>\n",
       "      <td>40</td>\n",
       "      <td>750</td>\n",
       "      <td>33</td>\n",
       "      <td>2</td>\n",
       "      <td>6</td>\n",
       "      <td>15</td>\n",
       "      <td>297</td>\n",
       "    </tr>\n",
       "    <tr>\n",
       "      <th>2</th>\n",
       "      <td>McDonald’s</td>\n",
       "      <td>Double Cheeseburger</td>\n",
       "      <td>440</td>\n",
       "      <td>210</td>\n",
       "      <td>23</td>\n",
       "      <td>11</td>\n",
       "      <td>1.5</td>\n",
       "      <td>80</td>\n",
       "      <td>1150</td>\n",
       "      <td>34</td>\n",
       "      <td>2</td>\n",
       "      <td>7</td>\n",
       "      <td>25</td>\n",
       "      <td>433</td>\n",
       "    </tr>\n",
       "    <tr>\n",
       "      <th>3</th>\n",
       "      <td>McDonald’s</td>\n",
       "      <td>McDouble</td>\n",
       "      <td>390</td>\n",
       "      <td>170</td>\n",
       "      <td>19</td>\n",
       "      <td>8</td>\n",
       "      <td>1</td>\n",
       "      <td>65</td>\n",
       "      <td>920</td>\n",
       "      <td>33</td>\n",
       "      <td>2</td>\n",
       "      <td>7</td>\n",
       "      <td>22</td>\n",
       "      <td>383</td>\n",
       "    </tr>\n",
       "    <tr>\n",
       "      <th>4</th>\n",
       "      <td>McDonald’s</td>\n",
       "      <td>Quarter Pounder® with Cheese</td>\n",
       "      <td>510</td>\n",
       "      <td>230</td>\n",
       "      <td>26</td>\n",
       "      <td>12</td>\n",
       "      <td>1.5</td>\n",
       "      <td>90</td>\n",
       "      <td>1190</td>\n",
       "      <td>40</td>\n",
       "      <td>3</td>\n",
       "      <td>9</td>\n",
       "      <td>29</td>\n",
       "      <td>502</td>\n",
       "    </tr>\n",
       "  </tbody>\n",
       "</table>\n",
       "</div>"
      ],
      "text/plain": [
       "      Company                           Item Calories Calories from\\nFat  \\\n",
       "0  McDonald’s                      Hamburger      250                 80   \n",
       "1  McDonald’s                   Cheeseburger      300                110   \n",
       "2  McDonald’s            Double Cheeseburger      440                210   \n",
       "3  McDonald’s                       McDouble      390                170   \n",
       "4  McDonald’s   Quarter Pounder® with Cheese      510                230   \n",
       "\n",
       "  Total Fat\\n(g) Saturated Fat\\n(g) Trans Fat\\n(g) Cholesterol\\n(mg)  \\\n",
       "0              9                3.5            0.5                25   \n",
       "1             12                  6            0.5                40   \n",
       "2             23                 11            1.5                80   \n",
       "3             19                  8              1                65   \n",
       "4             26                 12            1.5                90   \n",
       "\n",
       "  Sodium \\n(mg) Carbs\\n(g) Fiber\\n(g) Sugars\\n(g) Protein\\n(g)  \\\n",
       "0           520         31          2           6           12   \n",
       "1           750         33          2           6           15   \n",
       "2          1150         34          2           7           25   \n",
       "3           920         33          2           7           22   \n",
       "4          1190         40          3           9           29   \n",
       "\n",
       "  Weight Watchers\\nPnts  \n",
       "0                 247.5  \n",
       "1                   297  \n",
       "2                   433  \n",
       "3                   383  \n",
       "4                   502  "
      ]
     },
     "execution_count": 3,
     "metadata": {},
     "output_type": "execute_result"
    }
   ],
   "source": [
    "df1.head()"
   ]
  },
  {
   "cell_type": "code",
   "execution_count": 4,
   "id": "4e0d5329-f948-4d2e-985b-e8aa77aa4cff",
   "metadata": {},
   "outputs": [
    {
     "data": {
      "text/html": [
       "<div>\n",
       "<style scoped>\n",
       "    .dataframe tbody tr th:only-of-type {\n",
       "        vertical-align: middle;\n",
       "    }\n",
       "\n",
       "    .dataframe tbody tr th {\n",
       "        vertical-align: top;\n",
       "    }\n",
       "\n",
       "    .dataframe thead th {\n",
       "        text-align: right;\n",
       "    }\n",
       "</style>\n",
       "<table border=\"1\" class=\"dataframe\">\n",
       "  <thead>\n",
       "    <tr style=\"text-align: right;\">\n",
       "      <th></th>\n",
       "      <th>Company</th>\n",
       "      <th>Item</th>\n",
       "      <th>Calories</th>\n",
       "      <th>Calories from\\nFat</th>\n",
       "      <th>Total Fat\\n(g)</th>\n",
       "      <th>Saturated Fat\\n(g)</th>\n",
       "      <th>Trans Fat\\n(g)</th>\n",
       "      <th>Cholesterol\\n(mg)</th>\n",
       "      <th>Sodium \\n(mg)</th>\n",
       "      <th>Carbs\\n(g)</th>\n",
       "      <th>Fiber\\n(g)</th>\n",
       "      <th>Sugars\\n(g)</th>\n",
       "      <th>Protein\\n(g)</th>\n",
       "      <th>Weight Watchers\\nPnts</th>\n",
       "    </tr>\n",
       "  </thead>\n",
       "  <tbody>\n",
       "    <tr>\n",
       "      <th>0</th>\n",
       "      <td>McDonald’s</td>\n",
       "      <td>Hamburger</td>\n",
       "      <td>250</td>\n",
       "      <td>80</td>\n",
       "      <td>9</td>\n",
       "      <td>3.5</td>\n",
       "      <td>0.5</td>\n",
       "      <td>25</td>\n",
       "      <td>520</td>\n",
       "      <td>31</td>\n",
       "      <td>2</td>\n",
       "      <td>6</td>\n",
       "      <td>12</td>\n",
       "      <td>247.5</td>\n",
       "    </tr>\n",
       "    <tr>\n",
       "      <th>1</th>\n",
       "      <td>McDonald’s</td>\n",
       "      <td>Cheeseburger</td>\n",
       "      <td>300</td>\n",
       "      <td>110</td>\n",
       "      <td>12</td>\n",
       "      <td>6</td>\n",
       "      <td>0.5</td>\n",
       "      <td>40</td>\n",
       "      <td>750</td>\n",
       "      <td>33</td>\n",
       "      <td>2</td>\n",
       "      <td>6</td>\n",
       "      <td>15</td>\n",
       "      <td>297</td>\n",
       "    </tr>\n",
       "    <tr>\n",
       "      <th>2</th>\n",
       "      <td>McDonald’s</td>\n",
       "      <td>Double Cheeseburger</td>\n",
       "      <td>440</td>\n",
       "      <td>210</td>\n",
       "      <td>23</td>\n",
       "      <td>11</td>\n",
       "      <td>1.5</td>\n",
       "      <td>80</td>\n",
       "      <td>1150</td>\n",
       "      <td>34</td>\n",
       "      <td>2</td>\n",
       "      <td>7</td>\n",
       "      <td>25</td>\n",
       "      <td>433</td>\n",
       "    </tr>\n",
       "    <tr>\n",
       "      <th>3</th>\n",
       "      <td>McDonald’s</td>\n",
       "      <td>McDouble</td>\n",
       "      <td>390</td>\n",
       "      <td>170</td>\n",
       "      <td>19</td>\n",
       "      <td>8</td>\n",
       "      <td>1</td>\n",
       "      <td>65</td>\n",
       "      <td>920</td>\n",
       "      <td>33</td>\n",
       "      <td>2</td>\n",
       "      <td>7</td>\n",
       "      <td>22</td>\n",
       "      <td>383</td>\n",
       "    </tr>\n",
       "    <tr>\n",
       "      <th>4</th>\n",
       "      <td>McDonald’s</td>\n",
       "      <td>Quarter Pounder® with Cheese</td>\n",
       "      <td>510</td>\n",
       "      <td>230</td>\n",
       "      <td>26</td>\n",
       "      <td>12</td>\n",
       "      <td>1.5</td>\n",
       "      <td>90</td>\n",
       "      <td>1190</td>\n",
       "      <td>40</td>\n",
       "      <td>3</td>\n",
       "      <td>9</td>\n",
       "      <td>29</td>\n",
       "      <td>502</td>\n",
       "    </tr>\n",
       "  </tbody>\n",
       "</table>\n",
       "</div>"
      ],
      "text/plain": [
       "      Company                           Item Calories Calories from\\nFat  \\\n",
       "0  McDonald’s                      Hamburger      250                 80   \n",
       "1  McDonald’s                   Cheeseburger      300                110   \n",
       "2  McDonald’s            Double Cheeseburger      440                210   \n",
       "3  McDonald’s                       McDouble      390                170   \n",
       "4  McDonald’s   Quarter Pounder® with Cheese      510                230   \n",
       "\n",
       "  Total Fat\\n(g) Saturated Fat\\n(g) Trans Fat\\n(g) Cholesterol\\n(mg)  \\\n",
       "0              9                3.5            0.5                25   \n",
       "1             12                  6            0.5                40   \n",
       "2             23                 11            1.5                80   \n",
       "3             19                  8              1                65   \n",
       "4             26                 12            1.5                90   \n",
       "\n",
       "  Sodium \\n(mg) Carbs\\n(g) Fiber\\n(g) Sugars\\n(g) Protein\\n(g)  \\\n",
       "0           520         31          2           6           12   \n",
       "1           750         33          2           6           15   \n",
       "2          1150         34          2           7           25   \n",
       "3           920         33          2           7           22   \n",
       "4          1190         40          3           9           29   \n",
       "\n",
       "  Weight Watchers\\nPnts  \n",
       "0                 247.5  \n",
       "1                   297  \n",
       "2                   433  \n",
       "3                   383  \n",
       "4                   502  "
      ]
     },
     "execution_count": 4,
     "metadata": {},
     "output_type": "execute_result"
    }
   ],
   "source": [
    "df2.head()"
   ]
  },
  {
   "cell_type": "code",
   "execution_count": 5,
   "id": "f4a75302-79d1-47a7-a1bc-3f801ef7e19c",
   "metadata": {},
   "outputs": [
    {
     "name": "stdout",
     "output_type": "stream",
     "text": [
      "<class 'pandas.core.frame.DataFrame'>\n",
      "RangeIndex: 1148 entries, 0 to 1147\n",
      "Data columns (total 14 columns):\n",
      " #   Column                Non-Null Count  Dtype \n",
      "---  ------                --------------  ----- \n",
      " 0   Company               1148 non-null   object\n",
      " 1   Item                  1148 non-null   object\n",
      " 2   Calories              1147 non-null   object\n",
      " 3   Calories from\n",
      "Fat     642 non-null    object\n",
      " 4   Total Fat\n",
      "(g)         1091 non-null   object\n",
      " 5   Saturated Fat\n",
      "(g)     1091 non-null   object\n",
      " 6   Trans Fat\n",
      "(g)         1091 non-null   object\n",
      " 7   Cholesterol\n",
      "(mg)      1147 non-null   object\n",
      " 8   Sodium \n",
      "(mg)          1147 non-null   object\n",
      " 9   Carbs\n",
      "(g)             1091 non-null   object\n",
      " 10  Fiber\n",
      "(g)             1091 non-null   object\n",
      " 11  Sugars\n",
      "(g)            1147 non-null   object\n",
      " 12  Protein\n",
      "(g)           1091 non-null   object\n",
      " 13  Weight Watchers\n",
      "Pnts  887 non-null    object\n",
      "dtypes: object(14)\n",
      "memory usage: 125.7+ KB\n"
     ]
    }
   ],
   "source": [
    "df1.info()"
   ]
  },
  {
   "cell_type": "code",
   "execution_count": 6,
   "id": "7f661c74-8ac5-486e-8a7f-2884fa04ef73",
   "metadata": {},
   "outputs": [
    {
     "data": {
      "text/plain": [
       "Company                    0\n",
       "Item                       0\n",
       "Calories                   1\n",
       "Calories from\\nFat       506\n",
       "Total Fat\\n(g)            57\n",
       "Saturated Fat\\n(g)        57\n",
       "Trans Fat\\n(g)            57\n",
       "Cholesterol\\n(mg)          1\n",
       "Sodium \\n(mg)              1\n",
       "Carbs\\n(g)                57\n",
       "Fiber\\n(g)                57\n",
       "Sugars\\n(g)                1\n",
       "Protein\\n(g)              57\n",
       "Weight Watchers\\nPnts    261\n",
       "dtype: int64"
      ]
     },
     "execution_count": 6,
     "metadata": {},
     "output_type": "execute_result"
    }
   ],
   "source": [
    "df1.isnull().sum()"
   ]
  },
  {
   "cell_type": "code",
   "execution_count": 7,
   "id": "0fc1b504-239d-479b-9b6f-7af787b3a165",
   "metadata": {},
   "outputs": [
    {
     "data": {
      "text/plain": [
       "Company                    0\n",
       "Item                       0\n",
       "Calories                   0\n",
       "Calories from\\nFat       505\n",
       "Total Fat\\n(g)            56\n",
       "Saturated Fat\\n(g)        56\n",
       "Trans Fat\\n(g)            56\n",
       "Cholesterol\\n(mg)          0\n",
       "Sodium \\n(mg)              0\n",
       "Carbs\\n(g)                56\n",
       "Fiber\\n(g)                56\n",
       "Sugars\\n(g)                0\n",
       "Protein\\n(g)              56\n",
       "Weight Watchers\\nPnts    260\n",
       "dtype: int64"
      ]
     },
     "execution_count": 7,
     "metadata": {},
     "output_type": "execute_result"
    }
   ],
   "source": [
    "df2.isnull().sum()"
   ]
  },
  {
   "cell_type": "code",
   "execution_count": 8,
   "id": "a23a7dd7-26d9-4602-84d2-e592983a0fb8",
   "metadata": {},
   "outputs": [],
   "source": [
    "df = pd.concat([df1, df2], ignore_index=True)"
   ]
  },
  {
   "cell_type": "code",
   "execution_count": 9,
   "id": "2c095a71-15a5-4943-998f-7e130d98ec7f",
   "metadata": {},
   "outputs": [
    {
     "data": {
      "text/html": [
       "<div>\n",
       "<style scoped>\n",
       "    .dataframe tbody tr th:only-of-type {\n",
       "        vertical-align: middle;\n",
       "    }\n",
       "\n",
       "    .dataframe tbody tr th {\n",
       "        vertical-align: top;\n",
       "    }\n",
       "\n",
       "    .dataframe thead th {\n",
       "        text-align: right;\n",
       "    }\n",
       "</style>\n",
       "<table border=\"1\" class=\"dataframe\">\n",
       "  <thead>\n",
       "    <tr style=\"text-align: right;\">\n",
       "      <th></th>\n",
       "      <th>Company</th>\n",
       "      <th>Item</th>\n",
       "      <th>Calories</th>\n",
       "      <th>Calories from\\nFat</th>\n",
       "      <th>Total Fat\\n(g)</th>\n",
       "      <th>Saturated Fat\\n(g)</th>\n",
       "      <th>Trans Fat\\n(g)</th>\n",
       "      <th>Cholesterol\\n(mg)</th>\n",
       "      <th>Sodium \\n(mg)</th>\n",
       "      <th>Carbs\\n(g)</th>\n",
       "      <th>Fiber\\n(g)</th>\n",
       "      <th>Sugars\\n(g)</th>\n",
       "      <th>Protein\\n(g)</th>\n",
       "      <th>Weight Watchers\\nPnts</th>\n",
       "    </tr>\n",
       "  </thead>\n",
       "  <tbody>\n",
       "    <tr>\n",
       "      <th>0</th>\n",
       "      <td>McDonald’s</td>\n",
       "      <td>Hamburger</td>\n",
       "      <td>250</td>\n",
       "      <td>80</td>\n",
       "      <td>9</td>\n",
       "      <td>3.5</td>\n",
       "      <td>0.5</td>\n",
       "      <td>25</td>\n",
       "      <td>520</td>\n",
       "      <td>31</td>\n",
       "      <td>2</td>\n",
       "      <td>6</td>\n",
       "      <td>12</td>\n",
       "      <td>247.5</td>\n",
       "    </tr>\n",
       "    <tr>\n",
       "      <th>1</th>\n",
       "      <td>McDonald’s</td>\n",
       "      <td>Cheeseburger</td>\n",
       "      <td>300</td>\n",
       "      <td>110</td>\n",
       "      <td>12</td>\n",
       "      <td>6</td>\n",
       "      <td>0.5</td>\n",
       "      <td>40</td>\n",
       "      <td>750</td>\n",
       "      <td>33</td>\n",
       "      <td>2</td>\n",
       "      <td>6</td>\n",
       "      <td>15</td>\n",
       "      <td>297</td>\n",
       "    </tr>\n",
       "    <tr>\n",
       "      <th>2</th>\n",
       "      <td>McDonald’s</td>\n",
       "      <td>Double Cheeseburger</td>\n",
       "      <td>440</td>\n",
       "      <td>210</td>\n",
       "      <td>23</td>\n",
       "      <td>11</td>\n",
       "      <td>1.5</td>\n",
       "      <td>80</td>\n",
       "      <td>1150</td>\n",
       "      <td>34</td>\n",
       "      <td>2</td>\n",
       "      <td>7</td>\n",
       "      <td>25</td>\n",
       "      <td>433</td>\n",
       "    </tr>\n",
       "    <tr>\n",
       "      <th>3</th>\n",
       "      <td>McDonald’s</td>\n",
       "      <td>McDouble</td>\n",
       "      <td>390</td>\n",
       "      <td>170</td>\n",
       "      <td>19</td>\n",
       "      <td>8</td>\n",
       "      <td>1</td>\n",
       "      <td>65</td>\n",
       "      <td>920</td>\n",
       "      <td>33</td>\n",
       "      <td>2</td>\n",
       "      <td>7</td>\n",
       "      <td>22</td>\n",
       "      <td>383</td>\n",
       "    </tr>\n",
       "    <tr>\n",
       "      <th>4</th>\n",
       "      <td>McDonald’s</td>\n",
       "      <td>Quarter Pounder® with Cheese</td>\n",
       "      <td>510</td>\n",
       "      <td>230</td>\n",
       "      <td>26</td>\n",
       "      <td>12</td>\n",
       "      <td>1.5</td>\n",
       "      <td>90</td>\n",
       "      <td>1190</td>\n",
       "      <td>40</td>\n",
       "      <td>3</td>\n",
       "      <td>9</td>\n",
       "      <td>29</td>\n",
       "      <td>502</td>\n",
       "    </tr>\n",
       "    <tr>\n",
       "      <th>...</th>\n",
       "      <td>...</td>\n",
       "      <td>...</td>\n",
       "      <td>...</td>\n",
       "      <td>...</td>\n",
       "      <td>...</td>\n",
       "      <td>...</td>\n",
       "      <td>...</td>\n",
       "      <td>...</td>\n",
       "      <td>...</td>\n",
       "      <td>...</td>\n",
       "      <td>...</td>\n",
       "      <td>...</td>\n",
       "      <td>...</td>\n",
       "      <td>...</td>\n",
       "    </tr>\n",
       "    <tr>\n",
       "      <th>2290</th>\n",
       "      <td>Pizza Hut</td>\n",
       "      <td>Hand Tossed Slices Ultimate Cheese Lover’s® Me...</td>\n",
       "      <td>230</td>\n",
       "      <td>NaN</td>\n",
       "      <td>10</td>\n",
       "      <td>4.5</td>\n",
       "      <td>0</td>\n",
       "      <td>25</td>\n",
       "      <td>390</td>\n",
       "      <td>25</td>\n",
       "      <td>2</td>\n",
       "      <td>1</td>\n",
       "      <td>11</td>\n",
       "      <td>NaN</td>\n",
       "    </tr>\n",
       "    <tr>\n",
       "      <th>2291</th>\n",
       "      <td>Pizza Hut</td>\n",
       "      <td>Hand Tossed Slices Ultimate Cheese Lover’s® Large</td>\n",
       "      <td>310</td>\n",
       "      <td>NaN</td>\n",
       "      <td>13</td>\n",
       "      <td>6</td>\n",
       "      <td>0</td>\n",
       "      <td>35</td>\n",
       "      <td>540</td>\n",
       "      <td>33</td>\n",
       "      <td>2</td>\n",
       "      <td>1</td>\n",
       "      <td>15</td>\n",
       "      <td>NaN</td>\n",
       "    </tr>\n",
       "    <tr>\n",
       "      <th>2292</th>\n",
       "      <td>Pizza Hut</td>\n",
       "      <td>Hand Tossed Slices Veggie Lover’s® Small</td>\n",
       "      <td>120</td>\n",
       "      <td>NaN</td>\n",
       "      <td>4</td>\n",
       "      <td>1.5</td>\n",
       "      <td>0</td>\n",
       "      <td>10</td>\n",
       "      <td>230</td>\n",
       "      <td>17</td>\n",
       "      <td>1</td>\n",
       "      <td>1</td>\n",
       "      <td>5</td>\n",
       "      <td>NaN</td>\n",
       "    </tr>\n",
       "    <tr>\n",
       "      <th>2293</th>\n",
       "      <td>Pizza Hut</td>\n",
       "      <td>Hand Tossed Slices Veggie Lover’s® Medium</td>\n",
       "      <td>200</td>\n",
       "      <td>NaN</td>\n",
       "      <td>6</td>\n",
       "      <td>2.5</td>\n",
       "      <td>0</td>\n",
       "      <td>15</td>\n",
       "      <td>370</td>\n",
       "      <td>27</td>\n",
       "      <td>2</td>\n",
       "      <td>2</td>\n",
       "      <td>8</td>\n",
       "      <td>NaN</td>\n",
       "    </tr>\n",
       "    <tr>\n",
       "      <th>2294</th>\n",
       "      <td>Pizza Hut</td>\n",
       "      <td>Hand Tossed Slices Veggie Lover’s® Large</td>\n",
       "      <td>260</td>\n",
       "      <td>NaN</td>\n",
       "      <td>9</td>\n",
       "      <td>4</td>\n",
       "      <td>0</td>\n",
       "      <td>20</td>\n",
       "      <td>510</td>\n",
       "      <td>36</td>\n",
       "      <td>3</td>\n",
       "      <td>3</td>\n",
       "      <td>11</td>\n",
       "      <td>NaN</td>\n",
       "    </tr>\n",
       "  </tbody>\n",
       "</table>\n",
       "<p>2295 rows × 14 columns</p>\n",
       "</div>"
      ],
      "text/plain": [
       "         Company                                               Item Calories  \\\n",
       "0     McDonald’s                                          Hamburger      250   \n",
       "1     McDonald’s                                       Cheeseburger      300   \n",
       "2     McDonald’s                                Double Cheeseburger      440   \n",
       "3     McDonald’s                                           McDouble      390   \n",
       "4     McDonald’s                       Quarter Pounder® with Cheese      510   \n",
       "...          ...                                                ...      ...   \n",
       "2290   Pizza Hut  Hand Tossed Slices Ultimate Cheese Lover’s® Me...      230   \n",
       "2291   Pizza Hut  Hand Tossed Slices Ultimate Cheese Lover’s® Large      310   \n",
       "2292   Pizza Hut           Hand Tossed Slices Veggie Lover’s® Small      120   \n",
       "2293   Pizza Hut          Hand Tossed Slices Veggie Lover’s® Medium      200   \n",
       "2294   Pizza Hut           Hand Tossed Slices Veggie Lover’s® Large      260   \n",
       "\n",
       "     Calories from\\nFat Total Fat\\n(g) Saturated Fat\\n(g) Trans Fat\\n(g)  \\\n",
       "0                    80              9                3.5            0.5   \n",
       "1                   110             12                  6            0.5   \n",
       "2                   210             23                 11            1.5   \n",
       "3                   170             19                  8              1   \n",
       "4                   230             26                 12            1.5   \n",
       "...                 ...            ...                ...            ...   \n",
       "2290                NaN             10                4.5              0   \n",
       "2291                NaN             13                  6              0   \n",
       "2292                NaN              4                1.5              0   \n",
       "2293                NaN              6                2.5              0   \n",
       "2294                NaN              9                  4              0   \n",
       "\n",
       "     Cholesterol\\n(mg) Sodium \\n(mg) Carbs\\n(g) Fiber\\n(g) Sugars\\n(g)  \\\n",
       "0                   25           520         31          2           6   \n",
       "1                   40           750         33          2           6   \n",
       "2                   80          1150         34          2           7   \n",
       "3                   65           920         33          2           7   \n",
       "4                   90          1190         40          3           9   \n",
       "...                ...           ...        ...        ...         ...   \n",
       "2290                25           390         25          2           1   \n",
       "2291                35           540         33          2           1   \n",
       "2292                10           230         17          1           1   \n",
       "2293                15           370         27          2           2   \n",
       "2294                20           510         36          3           3   \n",
       "\n",
       "     Protein\\n(g) Weight Watchers\\nPnts  \n",
       "0              12                 247.5  \n",
       "1              15                   297  \n",
       "2              25                   433  \n",
       "3              22                   383  \n",
       "4              29                   502  \n",
       "...           ...                   ...  \n",
       "2290           11                   NaN  \n",
       "2291           15                   NaN  \n",
       "2292            5                   NaN  \n",
       "2293            8                   NaN  \n",
       "2294           11                   NaN  \n",
       "\n",
       "[2295 rows x 14 columns]"
      ]
     },
     "execution_count": 9,
     "metadata": {},
     "output_type": "execute_result"
    }
   ],
   "source": [
    "df"
   ]
  },
  {
   "cell_type": "code",
   "execution_count": 10,
   "id": "1ac6045c-60ab-4eb4-935e-9f6632e026ee",
   "metadata": {},
   "outputs": [
    {
     "data": {
      "text/plain": [
       "Company                     0\n",
       "Item                        0\n",
       "Calories                    1\n",
       "Calories from\\nFat       1011\n",
       "Total Fat\\n(g)            113\n",
       "Saturated Fat\\n(g)        113\n",
       "Trans Fat\\n(g)            113\n",
       "Cholesterol\\n(mg)           1\n",
       "Sodium \\n(mg)               1\n",
       "Carbs\\n(g)                113\n",
       "Fiber\\n(g)                113\n",
       "Sugars\\n(g)                 1\n",
       "Protein\\n(g)              113\n",
       "Weight Watchers\\nPnts     521\n",
       "dtype: int64"
      ]
     },
     "execution_count": 10,
     "metadata": {},
     "output_type": "execute_result"
    }
   ],
   "source": [
    "df.isnull().sum()"
   ]
  },
  {
   "cell_type": "code",
   "execution_count": 11,
   "id": "2316f93b-f9bb-4d6d-8b8c-5505eb49993e",
   "metadata": {},
   "outputs": [
    {
     "name": "stdout",
     "output_type": "stream",
     "text": [
      "Company                  object\n",
      "Item                     object\n",
      "Calories                 object\n",
      "Calories from\\nFat       object\n",
      "Total Fat\\n(g)           object\n",
      "Saturated Fat\\n(g)       object\n",
      "Trans Fat\\n(g)           object\n",
      "Cholesterol\\n(mg)        object\n",
      "Sodium \\n(mg)            object\n",
      "Carbs\\n(g)               object\n",
      "Fiber\\n(g)               object\n",
      "Sugars\\n(g)              object\n",
      "Protein\\n(g)             object\n",
      "Weight Watchers\\nPnts    object\n",
      "dtype: object\n"
     ]
    }
   ],
   "source": [
    "print(df.dtypes)"
   ]
  },
  {
   "cell_type": "code",
   "execution_count": 12,
   "id": "bd39e3db-5ad1-4cd8-ad33-5bb07f5bf36c",
   "metadata": {},
   "outputs": [],
   "source": [
    "# Convert specific columns to float\n",
    "df['Calories'] = pd.to_numeric(df['Calories'], errors='coerce')\n",
    "df['Calories from\\nFat'] = pd.to_numeric(df['Calories from\\nFat'], errors='coerce')\n",
    "df['Total Fat\\n(g)'] = pd.to_numeric(df['Total Fat\\n(g)'], errors='coerce')\n",
    "df['Saturated Fat\\n(g)'] = pd.to_numeric(df['Saturated Fat\\n(g)'], errors='coerce')\n",
    "df['Trans Fat\\n(g)'] = pd.to_numeric(df['Trans Fat\\n(g)'], errors='coerce')\n",
    "df['Cholesterol\\n(mg)'] = pd.to_numeric(df['Cholesterol\\n(mg)'], errors='coerce')\n",
    "df['Sodium \\n(mg)'] = pd.to_numeric(df['Sodium \\n(mg)'], errors='coerce')\n",
    "df['Carbs\\n(g)'] = pd.to_numeric(df['Carbs\\n(g)'], errors='coerce')\n",
    "df['Fiber\\n(g)'] = pd.to_numeric(df['Fiber\\n(g)'], errors='coerce')\n",
    "df['Sugars\\n(g)'] = pd.to_numeric(df['Sugars\\n(g)'], errors='coerce')\n",
    "df['Protein\\n(g)'] = pd.to_numeric(df['Protein\\n(g)'], errors='coerce')\n",
    "df['Weight Watchers\\nPnts'] = pd.to_numeric(df['Weight Watchers\\nPnts'], errors='coerce')\n"
   ]
  },
  {
   "cell_type": "code",
   "execution_count": 13,
   "id": "d7459019-5877-4859-9df1-f69c8c62680c",
   "metadata": {},
   "outputs": [
    {
     "data": {
      "text/plain": [
       "Company                   object\n",
       "Item                      object\n",
       "Calories                 float64\n",
       "Calories from\\nFat       float64\n",
       "Total Fat\\n(g)           float64\n",
       "Saturated Fat\\n(g)       float64\n",
       "Trans Fat\\n(g)           float64\n",
       "Cholesterol\\n(mg)        float64\n",
       "Sodium \\n(mg)            float64\n",
       "Carbs\\n(g)               float64\n",
       "Fiber\\n(g)               float64\n",
       "Sugars\\n(g)              float64\n",
       "Protein\\n(g)             float64\n",
       "Weight Watchers\\nPnts    float64\n",
       "dtype: object"
      ]
     },
     "execution_count": 13,
     "metadata": {},
     "output_type": "execute_result"
    }
   ],
   "source": [
    "df.dtypes"
   ]
  },
  {
   "cell_type": "code",
   "execution_count": 14,
   "id": "5547f4a3-8f5c-462e-8ebf-40bf5ac2008e",
   "metadata": {},
   "outputs": [],
   "source": [
    "# For columns with substantial missing values, using median might work well\n",
    "df['Calories from\\nFat'] = df['Calories from\\nFat'].fillna(df['Calories from\\nFat'].median())\n",
    "df['Total Fat\\n(g)'] = df['Total Fat\\n(g)'].fillna(df['Total Fat\\n(g)'].median())\n",
    "df['Saturated Fat\\n(g)'] = df['Saturated Fat\\n(g)'].fillna(df['Saturated Fat\\n(g)'].median())\n",
    "df['Trans Fat\\n(g)'] = df['Trans Fat\\n(g)'].fillna(df['Trans Fat\\n(g)'].median())\n",
    "df['Carbs\\n(g)'] = df['Carbs\\n(g)'].fillna(df['Carbs\\n(g)'].median())\n",
    "df['Fiber\\n(g)'] = df['Fiber\\n(g)'].fillna(df['Fiber\\n(g)'].median())\n",
    "df['Protein\\n(g)'] = df['Protein\\n(g)'].fillna(df['Protein\\n(g)'].median())\n",
    "df['Weight Watchers\\nPnts'] = df['Weight Watchers\\nPnts'].fillna(df['Weight Watchers\\nPnts'].median())\n",
    "df['Calories']=df['Calories'].fillna(df['Calories'].median())\n",
    "df['Cholesterol\\n(mg)']=df['Cholesterol\\n(mg)'].fillna(df['Cholesterol\\n(mg)'].median())\n",
    "df['Sodium \\n(mg)']=df['Sodium \\n(mg)'].fillna(df['Sodium \\n(mg)'].median())\n",
    "df['Sugars\\n(g)']=df['Sugars\\n(g)'].fillna(df['Sugars\\n(g)'].median())"
   ]
  },
  {
   "cell_type": "code",
   "execution_count": 15,
   "id": "dc791576-bcce-42bb-a359-1dfc8516de99",
   "metadata": {},
   "outputs": [
    {
     "data": {
      "text/plain": [
       "Company                  0\n",
       "Item                     0\n",
       "Calories                 0\n",
       "Calories from\\nFat       0\n",
       "Total Fat\\n(g)           0\n",
       "Saturated Fat\\n(g)       0\n",
       "Trans Fat\\n(g)           0\n",
       "Cholesterol\\n(mg)        0\n",
       "Sodium \\n(mg)            0\n",
       "Carbs\\n(g)               0\n",
       "Fiber\\n(g)               0\n",
       "Sugars\\n(g)              0\n",
       "Protein\\n(g)             0\n",
       "Weight Watchers\\nPnts    0\n",
       "dtype: int64"
      ]
     },
     "execution_count": 15,
     "metadata": {},
     "output_type": "execute_result"
    }
   ],
   "source": [
    "df.isnull().sum()"
   ]
  },
  {
   "cell_type": "code",
   "execution_count": 41,
   "id": "f55285fd-eff4-4ee7-b7a9-7afcb5d34a64",
   "metadata": {},
   "outputs": [
    {
     "name": "stdout",
     "output_type": "stream",
     "text": [
      "Average calorie count: 286.75816993464053\n"
     ]
    }
   ],
   "source": [
    "print(\"Average calorie count:\", df['Calories'].mean())"
   ]
  },
  {
   "cell_type": "code",
   "execution_count": 43,
   "id": "f2643b7c-9404-42b1-a789-96947366ad06",
   "metadata": {},
   "outputs": [
    {
     "name": "stdout",
     "output_type": "stream",
     "text": [
      "Item with highest calorie count:\n",
      " Company                                           Burger King\n",
      "Item                     Triple Whopper® Sandwich with Cheese\n",
      "Calories                                               1220.0\n",
      "Calories from\\nFat                                      740.0\n",
      "Total Fat\\n(g)                                           82.0\n",
      "Saturated Fat\\n(g)                                       32.0\n",
      "Trans Fat\\n(g)                                            4.5\n",
      "Cholesterol\\n(mg)                                       280.0\n",
      "Sodium \\n(mg)                                          1470.0\n",
      "Carbs\\n(g)                                               50.0\n",
      "Fiber\\n(g)                                                2.0\n",
      "Sugars\\n(g)                                              11.0\n",
      "Protein\\n(g)                                             71.0\n",
      "Weight Watchers\\nPnts                                  1192.0\n",
      "Name: 1482, dtype: object\n"
     ]
    }
   ],
   "source": [
    "high_calorie_item = df.sort_values('Calories', ascending=False).iloc[0]\n",
    "print(\"Item with highest calorie count:\\n\", high_calorie_item)"
   ]
  },
  {
   "cell_type": "code",
   "execution_count": 45,
   "id": "a97e80c1-a6ef-4a9c-a749-a82040280f9d",
   "metadata": {},
   "outputs": [
    {
     "name": "stdout",
     "output_type": "stream",
     "text": [
      "Average total fat (g): 11.462745098039216\n"
     ]
    }
   ],
   "source": [
    "print(\"Average total fat (g):\", df['Total Fat\\n(g)'].mean())"
   ]
  },
  {
   "cell_type": "code",
   "execution_count": 47,
   "id": "9b972da3-4c40-47a8-97bf-738bfb1758b6",
   "metadata": {},
   "outputs": [
    {
     "name": "stdout",
     "output_type": "stream",
     "text": [
      "Item with highest cholesterol:\n",
      " Company                                                        McDonald’s\n",
      "Item                     Big Breakfast with Hotcakes (Large Size Biscuit)\n",
      "Calories                                                           1150.0\n",
      "Calories from\\nFat                                                  540.0\n",
      "Total Fat\\n(g)                                                       60.0\n",
      "Saturated Fat\\n(g)                                                   20.0\n",
      "Trans Fat\\n(g)                                                        0.0\n",
      "Cholesterol\\n(mg)                                                   575.0\n",
      "Sodium \\n(mg)                                                      2260.0\n",
      "Carbs\\n(g)                                                          116.0\n",
      "Fiber\\n(g)                                                            7.0\n",
      "Sugars\\n(g)                                                          17.0\n",
      "Protein\\n(g)                                                         36.0\n",
      "Weight Watchers\\nPnts                                              1151.0\n",
      "Name: 1236, dtype: object\n"
     ]
    }
   ],
   "source": [
    "high_cholesterol_item = df.sort_values('Cholesterol\\n(mg)', ascending=False).iloc[0]\n",
    "print(\"Item with highest cholesterol:\\n\", high_cholesterol_item)"
   ]
  },
  {
   "cell_type": "code",
   "execution_count": 49,
   "id": "9e337bde-ff10-4d66-91e0-b571dfc35b7d",
   "metadata": {},
   "outputs": [
    {
     "name": "stdout",
     "output_type": "stream",
     "text": [
      "Protein distribution:\n",
      " count    2295.000000\n",
      "mean        9.289325\n",
      "std        10.727867\n",
      "min         0.000000\n",
      "25%         0.000000\n",
      "50%         7.000000\n",
      "75%        13.000000\n",
      "max        71.000000\n",
      "Name: Protein\\n(g), dtype: float64\n"
     ]
    }
   ],
   "source": [
    "print(\"Protein distribution:\\n\", df['Protein\\n(g)'].describe())"
   ]
  },
  {
   "cell_type": "code",
   "execution_count": 51,
   "id": "17efa527-65bf-4a4d-a0af-167918795f91",
   "metadata": {},
   "outputs": [
    {
     "name": "stdout",
     "output_type": "stream",
     "text": [
      "Item with lowest sodium:\n",
      " Company                  Wendy’s\n",
      "Item                     Hot Tea\n",
      "Calories                     0.0\n",
      "Calories from\\nFat          80.0\n",
      "Total Fat\\n(g)               0.0\n",
      "Saturated Fat\\n(g)           0.0\n",
      "Trans Fat\\n(g)               0.0\n",
      "Cholesterol\\n(mg)            0.0\n",
      "Sodium \\n(mg)                0.0\n",
      "Carbs\\n(g)                   1.0\n",
      "Fiber\\n(g)                   0.0\n",
      "Sugars\\n(g)                  0.0\n",
      "Protein\\n(g)                 0.0\n",
      "Weight Watchers\\nPnts        0.0\n",
      "Name: 609, dtype: object\n"
     ]
    }
   ],
   "source": [
    "low_sodium_item = df.sort_values('Sodium \\n(mg)', ascending=True).iloc[0]\n",
    "print(\"Item with lowest sodium:\\n\", low_sodium_item)\n"
   ]
  },
  {
   "cell_type": "code",
   "execution_count": 53,
   "id": "2dff45e1-f1f9-40f7-b670-8deacb059ff4",
   "metadata": {},
   "outputs": [
    {
     "name": "stdout",
     "output_type": "stream",
     "text": [
      "Number of items with less than 300 calories: 1389\n"
     ]
    }
   ],
   "source": [
    "low_cal_items = len(df[df['Calories'] < 300])\n",
    "print(\"Number of items with less than 300 calories:\", low_cal_items)"
   ]
  },
  {
   "cell_type": "code",
   "execution_count": 55,
   "id": "f6676c4b-582c-41d3-85cf-4689b09b0e74",
   "metadata": {},
   "outputs": [
    {
     "name": "stdout",
     "output_type": "stream",
     "text": [
      "Correlation between calories and protein: 0.7342937176243719\n"
     ]
    }
   ],
   "source": [
    "correlation = df['Calories'].corr(df['Protein\\n(g)'])\n",
    "print(\"Correlation between calories and protein:\", correlation)"
   ]
  },
  {
   "cell_type": "code",
   "execution_count": 57,
   "id": "1f164a68-a47c-44d5-8d43-8b22d4c62000",
   "metadata": {},
   "outputs": [
    {
     "name": "stdout",
     "output_type": "stream",
     "text": [
      "Average Weight Watchers points for items with >400 calories: 561.0185185185185\n"
     ]
    }
   ],
   "source": [
    "high_cal_ww_points = df[df['Calories'] > 400]['Weight Watchers\\nPnts'].mean()\n",
    "print(\"Average Weight Watchers points for items with >400 calories:\", high_cal_ww_points)"
   ]
  },
  {
   "cell_type": "code",
   "execution_count": 59,
   "id": "9f886b1c-e870-49a5-ac1a-291320a6ac00",
   "metadata": {},
   "outputs": [
    {
     "name": "stdout",
     "output_type": "stream",
     "text": [
      "Percentage of items with trans fat > 0g: 10.893246187363834\n"
     ]
    }
   ],
   "source": [
    "trans_fat_items = len(df[df['Trans Fat\\n(g)'] > 0]) / len(df) * 100\n",
    "print(\"Percentage of items with trans fat > 0g:\", trans_fat_items)"
   ]
  },
  {
   "cell_type": "code",
   "execution_count": 61,
   "id": "ffb6487a-5550-4d5f-bccf-dad17bc2413a",
   "metadata": {},
   "outputs": [
    {
     "data": {
      "image/png": "[encoded data removed]",
      "text/plain": [
       "<Figure size 640x480 with 1 Axes>"
      ]
     },
     "metadata": {},
     "output_type": "display_data"
    }
   ],
   "source": [
    "sns.histplot(df['Calories'], kde=True, bins=20)\n",
    "plt.title(\"Distribution of Calories\")\n",
    "plt.xlabel(\"Calories\")\n",
    "plt.ylabel(\"Frequency\")\n",
    "plt.show()\n"
   ]
  },
  {
   "cell_type": "code",
   "execution_count": 63,
   "id": "554f563f-7e77-41d4-ab20-1c0870688f91",
   "metadata": {},
   "outputs": [
    {
     "data": {
      "image/png": "[encoded data removed]",
      "text/plain": [
       "<Figure size 640x480 with 1 Axes>"
      ]
     },
     "metadata": {},
     "output_type": "display_data"
    }
   ],
   "source": [
    "sns.boxplot(x='Company', y='Total Fat\\n(g)', data=df)\n",
    "plt.title(\"Boxplot of Fat Content by Company\")\n",
    "plt.xlabel(\"Company\")\n",
    "plt.ylabel(\"Total Fat (g)\")\n",
    "plt.show()"
   ]
  },
  {
   "cell_type": "code",
   "execution_count": 69,
   "id": "28f0d7ff-a0f3-4d26-a86d-156165943a81",
   "metadata": {},
   "outputs": [
    {
     "data": {
      "image/png": "[encoded data removed]",
      "text/plain": [
       "<Figure size 1000x600 with 1 Axes>"
      ]
     },
     "metadata": {},
     "output_type": "display_data"
    }
   ],
   "source": [
    "# Updated Scatter plot with different colors for calories and protein\n",
    "plt.figure(figsize=(10, 6))\n",
    "\n",
    "# Scatter plot for calories\n",
    "plt.scatter(df['Calories'], df['Protein\\n(g)'], c='blue', alpha=0.7, label='Calories')\n",
    "\n",
    "# Scatter plot for protein\n",
    "plt.scatter(df['Protein\\n(g)'], df['Calories'], c='green', alpha=0.7, label='Protein')\n",
    "\n",
    "plt.title(\"Calories vs Protein\")\n",
    "plt.xlabel(\"Calories\")\n",
    "plt.ylabel(\"Protein (g)\")\n",
    "plt.legend()\n",
    "plt.grid()\n",
    "plt.show()\n"
   ]
  },
  {
   "cell_type": "code",
   "execution_count": 71,
   "id": "68e34c45-091f-413c-8d42-5145ee8bc32b",
   "metadata": {},
   "outputs": [
    {
     "data": {
      "image/png": "[encoded data removed]",
      "text/plain": [
       "<Figure size 640x480 with 1 Axes>"
      ]
     },
     "metadata": {},
     "output_type": "display_data"
    }
   ],
   "source": [
    "avg_sodium = df.groupby('Company')['Sodium \\n(mg)'].mean().reset_index()\n",
    "sns.barplot(x='Company', y='Sodium \\n(mg)', data=avg_sodium)\n",
    "plt.title(\"Average Sodium Content by Company\")\n",
    "plt.xlabel(\"Company\")\n",
    "plt.ylabel(\"Sodium (mg)\")\n",
    "plt.show()"
   ]
  },
  {
   "cell_type": "code",
   "execution_count": 73,
   "id": "6ab7b9fe-17a2-4c03-9ed6-cdfd7581c694",
   "metadata": {},
   "outputs": [
    {
     "data": {
      "image/png": "[encoded data removed]",
      "text/plain": [
       "<Figure size 640x480 with 1 Axes>"
      ]
     },
     "metadata": {},
     "output_type": "display_data"
    }
   ],
   "source": [
    "saturated_fat_counts = pd.cut(df['Saturated Fat\\n(g)'], bins=[0, 5, 10, 15, 20]).value_counts()\n",
    "saturated_fat_counts.plot.pie(autopct=\"%1.1f%%\")\n",
    "plt.title(\"Saturated Fat Distribution\")\n",
    "plt.ylabel(\"\")\n",
    "plt.show()"
   ]
  },
  {
   "cell_type": "code",
   "execution_count": 75,
   "id": "7a2fb3b0-e40d-42ee-a6a6-4b9da3b33af5",
   "metadata": {},
   "outputs": [
    {
     "ename": "ValueError",
     "evalue": "could not convert string to float: 'McDonald’s'",
     "output_type": "error",
     "traceback": [
      "\u001b[1;31m---------------------------------------------------------------------------\u001b[0m",
      "\u001b[1;31mValueError\u001b[0m                                Traceback (most recent call last)",
      "Cell \u001b[1;32mIn[75], line 1\u001b[0m\n\u001b[1;32m----> 1\u001b[0m correlation_matrix \u001b[38;5;241m=\u001b[39m df\u001b[38;5;241m.\u001b[39mcorr()\n\u001b[0;32m      2\u001b[0m sns\u001b[38;5;241m.\u001b[39mheatmap(correlation_matrix, annot\u001b[38;5;241m=\u001b[39m\u001b[38;5;28;01mTrue\u001b[39;00m, cmap\u001b[38;5;241m=\u001b[39m\u001b[38;5;124m\"\u001b[39m\u001b[38;5;124mcoolwarm\u001b[39m\u001b[38;5;124m\"\u001b[39m, fmt\u001b[38;5;241m=\u001b[39m\u001b[38;5;124m\"\u001b[39m\u001b[38;5;124m.2f\u001b[39m\u001b[38;5;124m\"\u001b[39m)\n\u001b[0;32m      3\u001b[0m plt\u001b[38;5;241m.\u001b[39mtitle(\u001b[38;5;124m\"\u001b[39m\u001b[38;5;124mCorrelation Heatmap\u001b[39m\u001b[38;5;124m\"\u001b[39m)\n",
      "File \u001b[1;32m~\\anaconda3\\Lib\\site-packages\\pandas\\core\\frame.py:11049\u001b[0m, in \u001b[0;36mDataFrame.corr\u001b[1;34m(self, method, min_periods, numeric_only)\u001b[0m\n\u001b[0;32m  11047\u001b[0m cols \u001b[38;5;241m=\u001b[39m data\u001b[38;5;241m.\u001b[39mcolumns\n\u001b[0;32m  11048\u001b[0m idx \u001b[38;5;241m=\u001b[39m cols\u001b[38;5;241m.\u001b[39mcopy()\n\u001b[1;32m> 11049\u001b[0m mat \u001b[38;5;241m=\u001b[39m data\u001b[38;5;241m.\u001b[39mto_numpy(dtype\u001b[38;5;241m=\u001b[39m\u001b[38;5;28mfloat\u001b[39m, na_value\u001b[38;5;241m=\u001b[39mnp\u001b[38;5;241m.\u001b[39mnan, copy\u001b[38;5;241m=\u001b[39m\u001b[38;5;28;01mFalse\u001b[39;00m)\n\u001b[0;32m  11051\u001b[0m \u001b[38;5;28;01mif\u001b[39;00m method \u001b[38;5;241m==\u001b[39m \u001b[38;5;124m\"\u001b[39m\u001b[38;5;124mpearson\u001b[39m\u001b[38;5;124m\"\u001b[39m:\n\u001b[0;32m  11052\u001b[0m     correl \u001b[38;5;241m=\u001b[39m libalgos\u001b[38;5;241m.\u001b[39mnancorr(mat, minp\u001b[38;5;241m=\u001b[39mmin_periods)\n",
      "File \u001b[1;32m~\\anaconda3\\Lib\\site-packages\\pandas\\core\\frame.py:1993\u001b[0m, in \u001b[0;36mDataFrame.to_numpy\u001b[1;34m(self, dtype, copy, na_value)\u001b[0m\n\u001b[0;32m   1991\u001b[0m \u001b[38;5;28;01mif\u001b[39;00m dtype \u001b[38;5;129;01mis\u001b[39;00m \u001b[38;5;129;01mnot\u001b[39;00m \u001b[38;5;28;01mNone\u001b[39;00m:\n\u001b[0;32m   1992\u001b[0m     dtype \u001b[38;5;241m=\u001b[39m np\u001b[38;5;241m.\u001b[39mdtype(dtype)\n\u001b[1;32m-> 1993\u001b[0m result \u001b[38;5;241m=\u001b[39m \u001b[38;5;28mself\u001b[39m\u001b[38;5;241m.\u001b[39m_mgr\u001b[38;5;241m.\u001b[39mas_array(dtype\u001b[38;5;241m=\u001b[39mdtype, copy\u001b[38;5;241m=\u001b[39mcopy, na_value\u001b[38;5;241m=\u001b[39mna_value)\n\u001b[0;32m   1994\u001b[0m \u001b[38;5;28;01mif\u001b[39;00m result\u001b[38;5;241m.\u001b[39mdtype \u001b[38;5;129;01mis\u001b[39;00m \u001b[38;5;129;01mnot\u001b[39;00m dtype:\n\u001b[0;32m   1995\u001b[0m     result \u001b[38;5;241m=\u001b[39m np\u001b[38;5;241m.\u001b[39masarray(result, dtype\u001b[38;5;241m=\u001b[39mdtype)\n",
      "File \u001b[1;32m~\\anaconda3\\Lib\\site-packages\\pandas\\core\\internals\\managers.py:1694\u001b[0m, in \u001b[0;36mBlockManager.as_array\u001b[1;34m(self, dtype, copy, na_value)\u001b[0m\n\u001b[0;32m   1692\u001b[0m         arr\u001b[38;5;241m.\u001b[39mflags\u001b[38;5;241m.\u001b[39mwriteable \u001b[38;5;241m=\u001b[39m \u001b[38;5;28;01mFalse\u001b[39;00m\n\u001b[0;32m   1693\u001b[0m \u001b[38;5;28;01melse\u001b[39;00m:\n\u001b[1;32m-> 1694\u001b[0m     arr \u001b[38;5;241m=\u001b[39m \u001b[38;5;28mself\u001b[39m\u001b[38;5;241m.\u001b[39m_interleave(dtype\u001b[38;5;241m=\u001b[39mdtype, na_value\u001b[38;5;241m=\u001b[39mna_value)\n\u001b[0;32m   1695\u001b[0m     \u001b[38;5;66;03m# The underlying data was copied within _interleave, so no need\u001b[39;00m\n\u001b[0;32m   1696\u001b[0m     \u001b[38;5;66;03m# to further copy if copy=True or setting na_value\u001b[39;00m\n\u001b[0;32m   1698\u001b[0m \u001b[38;5;28;01mif\u001b[39;00m na_value \u001b[38;5;129;01mis\u001b[39;00m lib\u001b[38;5;241m.\u001b[39mno_default:\n",
      "File \u001b[1;32m~\\anaconda3\\Lib\\site-packages\\pandas\\core\\internals\\managers.py:1753\u001b[0m, in \u001b[0;36mBlockManager._interleave\u001b[1;34m(self, dtype, na_value)\u001b[0m\n\u001b[0;32m   1751\u001b[0m     \u001b[38;5;28;01melse\u001b[39;00m:\n\u001b[0;32m   1752\u001b[0m         arr \u001b[38;5;241m=\u001b[39m blk\u001b[38;5;241m.\u001b[39mget_values(dtype)\n\u001b[1;32m-> 1753\u001b[0m     result[rl\u001b[38;5;241m.\u001b[39mindexer] \u001b[38;5;241m=\u001b[39m arr\n\u001b[0;32m   1754\u001b[0m     itemmask[rl\u001b[38;5;241m.\u001b[39mindexer] \u001b[38;5;241m=\u001b[39m \u001b[38;5;241m1\u001b[39m\n\u001b[0;32m   1756\u001b[0m \u001b[38;5;28;01mif\u001b[39;00m \u001b[38;5;129;01mnot\u001b[39;00m itemmask\u001b[38;5;241m.\u001b[39mall():\n",
      "\u001b[1;31mValueError\u001b[0m: could not convert string to float: 'McDonald’s'"
     ]
    }
   ],
   "source": [
    "correlation_matrix = df.corr()\n",
    "sns.heatmap(correlation_matrix, annot=True, cmap=\"coolwarm\", fmt=\".2f\")\n",
    "plt.title(\"Correlation Heatmap\")\n",
    "plt.show()"
   ]
  },
  {
   "cell_type": "code",
   "execution_count": 77,
   "id": "8502a22f-99ca-4d37-b28f-b4d3188cdfd7",
   "metadata": {},
   "outputs": [
    {
     "data": {
      "image/png": "[encoded data removed]",
      "text/plain": [
       "<Figure size 640x480 with 1 Axes>"
      ]
     },
     "metadata": {},
     "output_type": "display_data"
    }
   ],
   "source": [
    "sns.violinplot(x='Company', y='Weight Watchers\\nPnts', data=df)\n",
    "plt.title(\"Violin Plot of Weight Watchers Points by Company\")\n",
    "plt.xlabel(\"Company\")\n",
    "plt.ylabel(\"Weight Watchers Points\")\n",
    "plt.show()"
   ]
  },
  {
   "cell_type": "code",
   "execution_count": null,
   "id": "e770f4ad-8e36-426f-965a-379f7a31ad88",
   "metadata": {},
   "outputs": [],
   "source": []
  }
 ],
 "metadata": {
  "kernelspec": {
   "display_name": "Python 3 (ipykernel)",
   "language": "python",
   "name": "python3"
  },
  "language_info": {
   "codemirror_mode": {
    "name": "ipython",
    "version": 3
   },
   "file_extension": ".py",
   "mimetype": "text/x-python",
   "name": "python",
   "nbconvert_exporter": "python",
   "pygments_lexer": "ipython3",
   "version": "3.12.7"
  }
 },
 "nbformat": 4,
 "nbformat_minor": 5
}
